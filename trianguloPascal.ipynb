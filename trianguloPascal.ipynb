{
  "nbformat": 4,
  "nbformat_minor": 0,
  "metadata": {
    "colab": {
      "name": "trianguloPascal.ipynb",
      "provenance": [],
      "collapsed_sections": []
    },
    "kernelspec": {
      "name": "python3",
      "display_name": "Python 3"
    }
  },
  "cells": [
    {
      "cell_type": "code",
      "metadata": {
        "id": "5sb6rrH-TSyo",
        "colab_type": "code",
        "colab": {
          "base_uri": "https://localhost:8080/",
          "height": 34
        },
        "outputId": "c35fff01-3ffc-4a1b-a07f-3457cc911433"
      },
      "source": [
        "def calcula_posicao(n, k):\n",
        "    if k == 0 or k == n:\n",
        "        return 1\n",
        "    else:\n",
        "        return int(calcula_posicao(n - 1, k - 1)) + int(calcula_posicao(n - 1, k))\n",
        "\n",
        "\n",
        "def pascalLine(linhas):\n",
        "    linhas = linhas + 1\n",
        "    triangulo = []\n",
        "\n",
        "    for linha in range(linhas):\n",
        "        valores_linha = []\n",
        "\n",
        "        for coluna in range(linha + 1):\n",
        "            valores_linha.append(calcula_posicao(linha, coluna))\n",
        "\n",
        "        triangulo.append(valores_linha)\n",
        "\n",
        "    return triangulo\n",
        "\n",
        "\n",
        "print(pascalLine(5))"
      ],
      "execution_count": 13,
      "outputs": [
        {
          "output_type": "stream",
          "text": [
            "[[1], [1, 1], [1, 2, 1], [1, 3, 3, 1], [1, 4, 6, 4, 1], [1, 5, 10, 10, 5, 1]]\n"
          ],
          "name": "stdout"
        }
      ]
    },
    {
      "cell_type": "code",
      "metadata": {
        "id": "CIr1D2fhZpVp",
        "colab_type": "code",
        "colab": {
          "base_uri": "https://localhost:8080/",
          "height": 185
        },
        "outputId": "c4c421b5-dd39-4d04-e3dc-e1d287f1d0c2"
      },
      "source": [
        "def trianguloPascal(linhas):\n",
        "    # incluindo valores nas primeiras linhas para entrar no 2o loop\n",
        "    triangulo = [[1],[1,1]]\n",
        " \n",
        "    # loop para gerar as linhas de acordo com o tamanho informado\n",
        "    for i in range(1, linhas):\n",
        " \n",
        "        # inicializar a primeira linha\n",
        "        linha = [1]\n",
        " \n",
        "        # procurar o valor anterior da linha\n",
        "        for j in range(0, len(triangulo[i])-1):\n",
        "\n",
        "            # adiciona o novo valor na linha, e soma o valor atual com o valor da linha anterior\n",
        "            linha.extend([ triangulo[i][j] + triangulo[i][j+1] ])\n",
        "\n",
        "        # adiciona o ultimo valor da linha sempre com 1\n",
        "        linha += [1]\n",
        " \n",
        "        # adiciona a linha no vetor\n",
        "        triangulo.append(linha)\n",
        " \n",
        "    #retorna o triangulo com todas as linhas conforme tamanho informado\n",
        "    return triangulo\n",
        " \n",
        "try:\n",
        "    n = int(input(\"Informe o numero de linhas para triangulo de Pascal: \"))\n",
        "    resultado = trianguloPascal(n)\n",
        " \n",
        "    # exibe resultado\n",
        "    for i in resultado:\n",
        "        print (i)\n",
        "except:\n",
        "    print (\"\\nNumero de linhas deve ser inteiro\")\n"
      ],
      "execution_count": 15,
      "outputs": [
        {
          "output_type": "stream",
          "text": [
            "Informe o numero de linhas para triangulo de Pascal: 8\n",
            "[1]\n",
            "[1, 1]\n",
            "[1, 2, 1]\n",
            "[1, 3, 3, 1]\n",
            "[1, 4, 6, 4, 1]\n",
            "[1, 5, 10, 10, 5, 1]\n",
            "[1, 6, 15, 20, 15, 6, 1]\n",
            "[1, 7, 21, 35, 35, 21, 7, 1]\n",
            "[1, 8, 28, 56, 70, 56, 28, 8, 1]\n"
          ],
          "name": "stdout"
        }
      ]
    },
    {
      "cell_type": "code",
      "metadata": {
        "id": "LyyhR5w4K5PH",
        "colab_type": "code",
        "colab": {
          "base_uri": "https://localhost:8080/",
          "height": 50
        },
        "outputId": "d218e68b-079a-4dec-ad4d-b799bb76c8bc"
      },
      "source": [
        "def criar_lista_zeros(n):\n",
        "    lista = [0]*(n**2)\n",
        "    return lista\n",
        "\n",
        "def pascal3(n):\n",
        "    i = 0\n",
        "    j = 0\n",
        "    A = criar_lista_zeros(n)\n",
        "    for i in range(0,n):\n",
        "        for j in range(0,i+1):\n",
        "            if j==0 or i==j:\n",
        "                A[n*i+j]=1\n",
        "            else:\n",
        "                A[n*i+j]=A[n*(i-1)+(j-1)]+A[n*(i-1)+j]\n",
        "        for i in range(0,n):\n",
        "            str1 = ''\n",
        "            for j in range(0,i+1):\n",
        "                str1 = str1 + ' ' + str(A[n*i+j])\n",
        "            #print (str1)\n",
        "    return A\n",
        "\n",
        "n = int(input(\"Informe o numero de linhas para triangulo de Pascal: \"))\n",
        "pascal3(n)"
      ],
      "execution_count": 22,
      "outputs": [
        {
          "output_type": "stream",
          "text": [
            "Informe o numero de linhas para triangulo de Pascal: 5\n"
          ],
          "name": "stdout"
        },
        {
          "output_type": "execute_result",
          "data": {
            "text/plain": [
              "[1, 0, 0, 0, 0, 1, 1, 0, 0, 0, 1, 2, 1, 0, 0, 1, 3, 3, 1, 0, 1, 4, 6, 4, 1]"
            ]
          },
          "metadata": {
            "tags": []
          },
          "execution_count": 22
        }
      ]
    }
  ]
}