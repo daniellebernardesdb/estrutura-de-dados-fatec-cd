{
  "nbformat": 4,
  "nbformat_minor": 0,
  "metadata": {
    "colab": {
      "name": "combSort.ipynb",
      "provenance": [],
      "collapsed_sections": []
    },
    "kernelspec": {
      "name": "python3",
      "display_name": "Python 3"
    }
  },
  "cells": [
    {
      "cell_type": "code",
      "metadata": {
        "id": "qSaLPUMgfVMf",
        "colab_type": "code",
        "colab": {
          "base_uri": "https://localhost:8080/",
          "height": 168
        },
        "outputId": "37d25f08-a01f-4666-ab0a-ed892c88eaf6"
      },
      "source": [
        "import time\n",
        "from random import sample\n",
        "from matplotlib import pyplot as plt\n",
        "\n",
        "def combSort(num):\n",
        "    gap = len(num)\n",
        "    classificado = True\n",
        "\n",
        "    while gap > 1 or classificado:\n",
        "        # minimum gap is 1\n",
        "        gap = max(1, int(gap / 1.3))  \n",
        "        print(gap)\n",
        "        classificado = False\n",
        "\n",
        "        for i in range(len(num) - gap):\n",
        "            j = i + gap\n",
        "            if num[i] > num[j]:\n",
        "               num[i], num[j] = num[j], num[i]\n",
        "               classificado = True\n",
        "\n",
        "\n",
        "num_list = sample(range(0, 200), 10)\n",
        "print(\"Antes: \", num_list)\n",
        "\n",
        "ini = time.time()\n",
        "combSort(num_list)\n",
        "fim = time.time()\n",
        "\n",
        "print(\"Depois:  \", num_list)\n",
        "print(\"Classificacao Comb Sort com : \", fim-ini)\n",
        "\n",
        "#plt.plot([100, 200, 500, 1000, 5000, 10000, 50000, 100000 e 200000], \n",
        "#         [1, 4, 9, 16])\n",
        "#plt.show()"
      ],
      "execution_count": 3,
      "outputs": [
        {
          "output_type": "stream",
          "text": [
            "Antes:  [116, 102, 100, 156, 171, 83, 52, 71, 198, 50]\n",
            "7\n",
            "5\n",
            "3\n",
            "2\n",
            "1\n",
            "1\n",
            "Depois:   [50, 52, 71, 83, 100, 102, 116, 156, 171, 198]\n",
            "Classificacao Comb Sort com :  0.0001933574676513672\n"
          ],
          "name": "stdout"
        }
      ]
    },
    {
      "cell_type": "markdown",
      "metadata": {
        "id": "FsOhgY3SfwJo",
        "colab_type": "text"
      },
      "source": [
        "função combsort (lista de entrada)\n",
        "inicio-função\n",
        "\n",
        "    # Inicializar o tamanho do gap com o tamanho da lista de entrada\n",
        "    variavel gap recebe lista.tamanho \n",
        "\n",
        "    # Definir o fator de redução do gap\n",
        "    variavel fator recebe 1,3 \n",
        "\n",
        "    variavel classificado recebe falso\n",
        "\n",
        "    enquanto classificado = falso \n",
        "    inicio-enquanto\n",
        "        \n",
        "        // Atualize o valor do gap para um próximo vão\n",
        "        gap recebe inteiro(gap / fator)\n",
        "\n",
        "        se gap menor ou igual a 1 então\n",
        "            gap recebe 1\n",
        "            // Se não houver trocas nesta passagem, estamos prontos\n",
        "            classificado recebe verdadeiro \n",
        "        fim-se\n",
        "\n",
        "        variavel i recebe 0\n",
        "\n",
        "        enquanto i + gap menor lista.tamanho\n",
        "        inicio-enquanto\n",
        "            \n",
        "            se lista [posição i] maior lista [posição i + gap] então\n",
        "                trocar (lista [posição i], lista [posição i + gap])\n",
        "                classificado recebe falso\n",
        "                // Se esta atribuição nunca acontecer dentro do loop,\n",
        "                // então não houve trocas e a lista está classificada\n",
        "             fim-se\n",
        "    \n",
        "             i recebe i + 1\n",
        "\n",
        "         fim-enquanto\n",
        "\n",
        "     fim-enquanto\n",
        "\n",
        "fim-função` "
      ]
    }
  ]
}